{
 "cells": [
  {
   "cell_type": "markdown",
   "id": "9782e393",
   "metadata": {},
   "source": [
    "# Naturalista.uy y códigos qr para \"hotspots\""
   ]
  },
  {
   "cell_type": "code",
   "execution_count": 31,
   "id": "faa1eab3",
   "metadata": {},
   "outputs": [],
   "source": [
    "import requests\n",
    "from collections import Counter"
   ]
  },
  {
   "cell_type": "code",
   "execution_count": 72,
   "id": "c3d2153f",
   "metadata": {},
   "outputs": [],
   "source": [
    "res = requests.get(\"https://api.inaturalist.org/v1/observations?iconic_taxa=Aves&nelat=-34.3153204479677&nelng=-52.344795383944074&place_id=any&quality_grade=research&subview=map&swlat=-35.553690012709126&swlng=-57.571540989412824&per_page=200\")\n",
    "res_json = res.json()"
   ]
  },
  {
   "cell_type": "markdown",
   "id": "a9d5c02d",
   "metadata": {},
   "source": [
    "### Rank de especies avistadas en el sitio:"
   ]
  },
  {
   "cell_type": "code",
   "execution_count": 70,
   "id": "bb983424",
   "metadata": {},
   "outputs": [],
   "source": [
    "observations = list()\n",
    "for obs in res_json[\"results\"]:\n",
    "    observations.append(obs[\"taxon\"][\"name\"])"
   ]
  },
  {
   "cell_type": "code",
   "execution_count": 71,
   "id": "c92d954c",
   "metadata": {
    "scrolled": false
   },
   "outputs": [],
   "source": [
    "list_of_obs = Counter(observations)\n",
    "rank_of_obs = list_of_obs.most_common()"
   ]
  },
  {
   "cell_type": "code",
   "execution_count": null,
   "id": "cfd60d35",
   "metadata": {},
   "outputs": [],
   "source": []
  }
 ],
 "metadata": {
  "kernelspec": {
   "display_name": "Python 3 (ipykernel)",
   "language": "python",
   "name": "python3"
  },
  "language_info": {
   "codemirror_mode": {
    "name": "ipython",
    "version": 3
   },
   "file_extension": ".py",
   "mimetype": "text/x-python",
   "name": "python",
   "nbconvert_exporter": "python",
   "pygments_lexer": "ipython3",
   "version": "3.10.1"
  }
 },
 "nbformat": 4,
 "nbformat_minor": 5
}
